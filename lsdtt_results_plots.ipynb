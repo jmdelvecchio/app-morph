{
 "cells": [
  {
   "cell_type": "code",
   "execution_count": null,
   "metadata": {},
   "outputs": [],
   "source": [
    "import numpy as np\n",
    "import pandas as pd\n",
    "import geopandas as gpd\n",
    "import matplotlib.pyplot as plt\n",
    "from pathlib import Path\n",
    "plt.rcParams.update({\"pdf.fonttype\":42})"
   ]
  },
  {
   "cell_type": "code",
   "execution_count": null,
   "metadata": {},
   "outputs": [],
   "source": [
    "tuscarora = pd.read_csv('output_data/tuscarora_tile_medians.csv')\n",
    "tuscarora = tuscarora.drop(tuscarora.columns[23:], axis=1)\n",
    "climate_df = pd.read_csv('output_data/tile_climate.csv')"
   ]
  },
  {
   "cell_type": "code",
   "execution_count": null,
   "metadata": {},
   "outputs": [],
   "source": [
    "tuscarora = pd.merge(tuscarora, climate_df, how='left', on='tile_number')"
   ]
  },
  {
   "cell_type": "code",
   "execution_count": null,
   "metadata": {},
   "outputs": [],
   "source": [
    "shinies = tuscarora[tuscarora['tile_number'].isin([5,10,25,29,35])]"
   ]
  },
  {
   "cell_type": "code",
   "execution_count": null,
   "metadata": {},
   "outputs": [],
   "source": [
    "fig, ax = plt.subplots(figsize=(11,2), dpi=300)\n",
    "im = ax.scatter(x=tuscarora['latitude'],\n",
    "            y=tuscarora['Cht'],\n",
    "            # c=tuscarora['S']\n",
    "            color='white', edgecolor='gray',s=70\n",
    "            )\n",
    "\n",
    "im = ax.scatter(x=shinies['latitude'],\n",
    "            y=shinies['Cht'],\n",
    "            # c=tuscarora['S']\n",
    "            color='white', edgecolor='k',s=70\n",
    "            )\n",
    "\n",
    "ax.set_ylabel(\"Hilltop curvature\")\n",
    "ax.set_xlabel(\"Latitude (Deg)\")\n",
    "plt.savefig(f'./figure_outputs/Cht_latitude.pdf')"
   ]
  },
  {
   "cell_type": "code",
   "execution_count": null,
   "metadata": {},
   "outputs": [],
   "source": [
    "fig, ax = plt.subplots(figsize=(11,2), dpi=300)\n",
    "im = ax.scatter(x=tuscarora['latitude'],\n",
    "            y=tuscarora['Lh'],\n",
    "            # c=tuscarora['S']\n",
    "            color='white', edgecolor='gray',s=70\n",
    "            )\n",
    "im = ax.scatter(x=shinies['latitude'],\n",
    "            y=shinies['Lh'],\n",
    "            # c=tuscarora['S']\n",
    "            color='white', edgecolor='k',s=70\n",
    "            )\n",
    "\n",
    "ax.set_ylabel(\"Hillslope length (m)\")\n",
    "ax.set_xlabel(\"Latitude (Deg)\")\n",
    "plt.savefig(f'./figure_outputs/Lh_latitude.pdf')"
   ]
  },
  {
   "cell_type": "code",
   "execution_count": null,
   "metadata": {},
   "outputs": [],
   "source": [
    "# fig, ax = plt.subplots(3,1,figsize=(3,9),dpi=200, sharey=True)\n",
    "fig, ax = plt.subplots(1,2,figsize=(7,3),dpi=200, sharey=True,\n",
    "gridspec_kw={'width_ratios': [2.5, 1]})\n",
    "\n",
    "im = ax[0].scatter(x=tuscarora['an_avg_TMIN'],\n",
    "            y=tuscarora['Lh'],\n",
    "            edgecolor='k',\n",
    "            facecolor='lightgray'\n",
    "            )\n",
    "im = ax[0].scatter(x=tuscarora['PRISM_tmin'],\n",
    "            y=tuscarora['Lh'],\n",
    "            edgecolor='k',\n",
    "            facecolor='darkgray'\n",
    "            )\n",
    "im = ax[1].scatter(x=tuscarora['PRISM_ppt'],\n",
    "            y=tuscarora['Lh'],\n",
    "            edgecolor='k',\n",
    "            facecolor='darkgray'\n",
    "            )\n",
    "ax[0].set_ylabel(\"Hillslope length (m)\")\n",
    "\n",
    "ax[0].set_xlabel(\"Annual average minimum \\ntemperature, °C\")\n",
    "# ax[1].set_xlabel(\"Annual average minimum \\ntemperature (C), modern\")\n",
    "ax[1].set_xlabel(\"Annual precipitation,\\nmodern, mm\")\n",
    "\n",
    "fig.tight_layout()\n",
    "plt.savefig(f'./figure_outputs/Lh_temps_individual.pdf')"
   ]
  },
  {
   "cell_type": "code",
   "execution_count": null,
   "metadata": {},
   "outputs": [],
   "source": [
    "from scipy import stats\n",
    "\n",
    "res = stats.spearmanr(tuscarora['an_avg_TMIN'], tuscarora['Lh'])\n",
    "res.statistic, res.pvalue"
   ]
  },
  {
   "cell_type": "code",
   "execution_count": null,
   "metadata": {},
   "outputs": [],
   "source": [
    "res = stats.spearmanr(tuscarora['PRISM_tmin'], tuscarora['Lh'])\n",
    "res.statistic, res.pvalue"
   ]
  },
  {
   "cell_type": "code",
   "execution_count": null,
   "metadata": {},
   "outputs": [],
   "source": [
    "res = stats.spearmanr(tuscarora['PRISM_ppt'], tuscarora['Lh'])\n",
    "res.statistic, res.pvalue"
   ]
  },
  {
   "cell_type": "markdown",
   "metadata": {},
   "source": [
    "# Extras!"
   ]
  },
  {
   "cell_type": "code",
   "execution_count": null,
   "metadata": {},
   "outputs": [],
   "source": [
    "fig, ax = plt.subplots(figsize=(11,2), dpi=300)\n",
    "im = ax.scatter(x=tuscarora['latitude'],\n",
    "            y=tuscarora['S'],\n",
    "            # c=tuscarora['S']\n",
    "            color='white', edgecolor='gray',s=70\n",
    "            )\n",
    "im = ax.scatter(x=shinies['latitude'],\n",
    "            y=shinies['S'],\n",
    "            # c=tuscarora['S']\n",
    "            color='white', edgecolor='k',s=70\n",
    "            )\n",
    "\n",
    "ax.set_ylabel(\"Colluvial slope (m)\")\n",
    "ax.set_xlabel(\"Latitude (Deg)\")\n",
    "plt.savefig(f'./figure_outputs/S_latitude.pdf')\n",
    "plt.savefig(f'./figure_outputs/S_latitude.png')"
   ]
  },
  {
   "cell_type": "code",
   "execution_count": null,
   "metadata": {},
   "outputs": [],
   "source": [
    "fig, ax = plt.subplots(figsize=(11,2), dpi=300)\n",
    "im = ax.scatter(x=tuscarora['latitude'],\n",
    "            y=tuscarora['R'],\n",
    "            # c=tuscarora['S']\n",
    "            color='white', edgecolor='gray',s=70\n",
    "            )\n",
    "im = ax.scatter(x=shinies['latitude'],\n",
    "            y=shinies['R'],\n",
    "            # c=tuscarora['S']\n",
    "            color='white', edgecolor='k',s=70\n",
    "            )\n",
    "\n",
    "ax.set_ylabel(\"Colluvial relief (m)\")\n",
    "ax.set_xlabel(\"Latitude (Deg)\")\n",
    "plt.savefig(f'./figure_outputs/R_latitude.pdf')\n",
    "plt.savefig(f'./figure_outputs/R_latitude.png')"
   ]
  },
  {
   "cell_type": "code",
   "execution_count": null,
   "metadata": {},
   "outputs": [],
   "source": [
    "# fig, ax = plt.subplots(3,1,figsize=(3,9),dpi=200, sharey=True)\n",
    "fig, ax = plt.subplots(1,2,figsize=(7,3),dpi=200, sharey=True,\n",
    "gridspec_kw={'width_ratios': [2.5, 1]})\n",
    "\n",
    "im = ax[0].scatter(x=tuscarora['an_avg_TMIN'],\n",
    "            y=tuscarora['S'],\n",
    "            edgecolor='k'\n",
    "            )\n",
    "im = ax[0].scatter(x=tuscarora['PRISM_tmin'],\n",
    "            y=tuscarora['S'],\n",
    "            edgecolor='k'\n",
    "            )\n",
    "im = ax[1].scatter(x=tuscarora['PRISM_ppt'],\n",
    "            y=tuscarora['S'],\n",
    "            edgecolor='k'\n",
    "            )\n",
    "ax[0].set_ylabel(\"Colluvial slope (m/m)\")\n",
    "\n",
    "ax[0].set_xlabel(\"Annual average minimum \\ntemperature, °C\")\n",
    "# ax[1].set_xlabel(\"Annual average minimum \\ntemperature (C), modern\")\n",
    "ax[1].set_xlabel(\"Annual precipitation,\\nmodern, mm\")\n",
    "\n",
    "fig.tight_layout()\n",
    "plt.savefig(f'./figure_outputs/S_temps_individual.pdf')"
   ]
  },
  {
   "cell_type": "code",
   "execution_count": null,
   "metadata": {},
   "outputs": [],
   "source": [
    "# fig, ax = plt.subplots(3,1,figsize=(3,9),dpi=200, sharey=True)\n",
    "fig, ax = plt.subplots(1,2,figsize=(7,3),dpi=200, sharey=True,\n",
    "gridspec_kw={'width_ratios': [2.5, 1]})\n",
    "\n",
    "im = ax[0].scatter(x=tuscarora['an_avg_TMIN'],\n",
    "            y=tuscarora['Cht'],\n",
    "            edgecolor='k'\n",
    "            )\n",
    "im = ax[0].scatter(x=tuscarora['PRISM_tmin'],\n",
    "            y=tuscarora['Cht'],\n",
    "            edgecolor='k'\n",
    "            )\n",
    "im = ax[1].scatter(x=tuscarora['PRISM_ppt'],\n",
    "            y=tuscarora['Cht'],\n",
    "            edgecolor='k'\n",
    "            )\n",
    "ax[0].set_ylabel(\"Hilltop curvature\")\n",
    "\n",
    "ax[0].set_xlabel(\"Annual average minimum \\ntemperature, °C\")\n",
    "# ax[1].set_xlabel(\"Annual average minimum \\ntemperature (C), modern\")\n",
    "ax[1].set_xlabel(\"Annual precipitation,\\nmodern, mm\")\n",
    "\n",
    "fig.tight_layout()\n",
    "plt.savefig(f'./figure_outputs/Cht_temps_individual.pdf')"
   ]
  },
  {
   "cell_type": "code",
   "execution_count": null,
   "metadata": {},
   "outputs": [],
   "source": [
    "from sklearn.preprocessing import MinMaxScaler\n",
    "scaler = MinMaxScaler()"
   ]
  },
  {
   "cell_type": "code",
   "execution_count": null,
   "metadata": {},
   "outputs": [],
   "source": [
    "fig, ax = plt.subplots(figsize=(4,3),dpi=200)\n",
    "im = ax.scatter(x=tuscarora['an_avg_TMIN'],\n",
    "            y=tuscarora['Lh'],\n",
    "            # c=tuscarora['S']\n",
    "            c=tuscarora['PRISM_tmin'],\n",
    "            vmin=3,\n",
    "            vmax=7,\n",
    "            cmap='bwr',\n",
    "            s=(scaler.fit_transform(tuscarora[['PRISM_ppt']])*100)+5,\n",
    "            edgecolor='k'\n",
    "            )\n",
    "\n",
    "### copilot help\n",
    "from matplotlib.lines import Line2D\n",
    "# Add color bar for the color mapping\n",
    "cbar = plt.colorbar(im, label='Modern minimum temperature (°C)')\n",
    "\n",
    "# Create size legend\n",
    "sizes = [\n",
    "    min((scaler.fit_transform(tuscarora[['PRISM_ppt']])*100)+5),\n",
    "    max((scaler.fit_transform(tuscarora[['PRISM_ppt']])*100)+5),\n",
    "    ]  # Example sizes for the legend\n",
    "size_labels = [\n",
    "    int(tuscarora[['PRISM_ppt']].min().values[0]),\n",
    "    int(tuscarora[['PRISM_ppt']].max().values[0]),\n",
    "    ]  # Corresponding labels\n",
    "size_handles = [plt.scatter([], [], s=s, color='gray', edgecolor='k', label=l)\n",
    "                for s, l in zip(sizes, size_labels)]\n",
    "\n",
    "# Combine legends\n",
    "legend_handles = size_handles\n",
    "legend_labels = size_labels \n",
    "ax.legend(legend_handles, legend_labels, title=\"Modern\\nMAP (mm)\", loc='upper right')\n",
    "\n",
    "\n",
    "###\n",
    "\n",
    "ax.set_ylabel(\"Hillslope length (m)\")\n",
    "ax.set_xlabel(\"Annual average minimum \\ntemperature (°C), 22 ka\")\n",
    "plt.savefig(f'./figure_outputs/Lh_temps.pdf')"
   ]
  },
  {
   "cell_type": "code",
   "execution_count": null,
   "metadata": {},
   "outputs": [],
   "source": [
    "fig, ax = plt.subplots(figsize=(4,3),dpi=200)\n",
    "im = ax.scatter(x=tuscarora['an_avg_TMIN'],\n",
    "            y=tuscarora['Cht'],\n",
    "            # c=tuscarora['S']\n",
    "            c=tuscarora['PRISM_tmin'],\n",
    "            vmin=3,\n",
    "            vmax=7,\n",
    "            cmap='bwr',\n",
    "            s=(scaler.fit_transform(tuscarora[['PRISM_ppt']])*100)+5,\n",
    "            edgecolor='k'\n",
    "            )\n",
    "\n",
    "### copilot help\n",
    "from matplotlib.lines import Line2D\n",
    "# Add color bar for the color mapping\n",
    "cbar = plt.colorbar(im, label='Modern minimum temperature (°C)')\n",
    "\n",
    "# Create size legend\n",
    "sizes = [\n",
    "    min((scaler.fit_transform(tuscarora[['PRISM_ppt']])*100)+5),\n",
    "    max((scaler.fit_transform(tuscarora[['PRISM_ppt']])*100)+5),\n",
    "    ]  # Example sizes for the legend\n",
    "size_labels = [\n",
    "    int(tuscarora[['PRISM_ppt']].min().values[0]),\n",
    "    int(tuscarora[['PRISM_ppt']].max().values[0]),\n",
    "    ]  # Corresponding labels\n",
    "size_handles = [plt.scatter([], [], s=s, color='gray', edgecolor='k', label=l)\n",
    "                for s, l in zip(sizes, size_labels)]\n",
    "\n",
    "# Combine legends\n",
    "legend_handles = size_handles\n",
    "legend_labels = size_labels \n",
    "ax.legend(legend_handles, legend_labels, title=\"Modern\\nMAP (mm)\", loc='lower left')\n",
    "\n",
    "\n",
    "###\n",
    "\n",
    "ax.set_ylabel(\"Hilltop curvature (1/m)\")\n",
    "ax.set_xlabel(\"Annual average minimum \\ntemperature (°C), 22 ka\")\n",
    "plt.savefig(f'./figure_outputs/Cht_temps.pdf')"
   ]
  },
  {
   "cell_type": "code",
   "execution_count": null,
   "metadata": {},
   "outputs": [],
   "source": [
    "# fig, ax = plt.subplots(3,1,figsize=(3,9),dpi=200, sharey=True)\n",
    "fig, ax = plt.subplots(1,3,figsize=(9,3),dpi=200, sharey=True)\n",
    "im = ax[0].scatter(x=tuscarora['an_cv_WDI'],\n",
    "            y=tuscarora['Lh'],\n",
    "            edgecolor='k'\n",
    "            )\n",
    "im = ax[1].scatter(x=tuscarora['an_sum_PET'],\n",
    "            y=tuscarora['Lh'],\n",
    "            edgecolor='k'\n",
    "            )\n",
    "im = ax[2].scatter(x=tuscarora['an_sum_GDD0']/100,\n",
    "            y=tuscarora['Lh'],\n",
    "            edgecolor='k'\n",
    "            )\n",
    "ax[0].set_ylabel(\"Hillslope length (m)\")\n",
    "\n",
    "ax[0].set_xlabel(\"Annual cumulative Water\\nDeficit Index, 22 ka\")\n",
    "ax[1].set_xlabel(\"Annual total Potential\\nEvapotranspiration, 22 ka\")\n",
    "ax[2].set_xlabel(\"Annual growing\\ndegree days, 22 ka\")\n",
    "\n",
    "fig.tight_layout()"
   ]
  },
  {
   "cell_type": "code",
   "execution_count": null,
   "metadata": {},
   "outputs": [],
   "source": []
  },
  {
   "cell_type": "code",
   "execution_count": null,
   "metadata": {},
   "outputs": [],
   "source": []
  }
 ],
 "metadata": {
  "kernelspec": {
   "display_name": "ears33",
   "language": "python",
   "name": "python3"
  },
  "language_info": {
   "codemirror_mode": {
    "name": "ipython",
    "version": 3
   },
   "file_extension": ".py",
   "mimetype": "text/x-python",
   "name": "python",
   "nbconvert_exporter": "python",
   "pygments_lexer": "ipython3",
   "version": "3.11.0"
  }
 },
 "nbformat": 4,
 "nbformat_minor": 2
}
