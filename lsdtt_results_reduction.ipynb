{
 "cells": [
  {
   "cell_type": "code",
   "execution_count": null,
   "metadata": {},
   "outputs": [],
   "source": [
    "import numpy as np\n",
    "import pandas as pd\n",
    "import geopandas as gpd\n",
    "import matplotlib.pyplot as plt\n",
    "from pathlib import Path\n",
    "import rasterio\n",
    "from shapely.geometry import Point\n",
    "plt.rcParams.update({\"pdf.fonttype\":42})"
   ]
  },
  {
   "cell_type": "markdown",
   "metadata": {},
   "source": [
    "# Start here if you have new data"
   ]
  },
  {
   "cell_type": "code",
   "execution_count": null,
   "metadata": {},
   "outputs": [],
   "source": [
    "results_p = '../dem_tiles_agu'\n",
    "lsdtt_results = [file for file in Path(results_p).glob('*HilltopData.csv')]\n",
    "# lsdtt_results"
   ]
  },
  {
   "cell_type": "code",
   "execution_count": null,
   "metadata": {},
   "outputs": [],
   "source": [
    "data_frames = []\n",
    "for result in lsdtt_results:\n",
    "    df =pd.read_csv(result)\n",
    "    df['filename'] = result.stem\n",
    "    df['tile_number'] = int('_'.join(result.stem.split('_')[1:-2]))\n",
    "    data_frames.append(df)\n",
    "lsdtt_results_df = pd.concat(data_frames, axis=0).reset_index().rename(columns={'index':'original_index'})\n",
    "lsdtt_results_df = lsdtt_results_df[lsdtt_results_df['Cht'] != -9999.000000]\n"
   ]
  },
  {
   "cell_type": "code",
   "execution_count": null,
   "metadata": {},
   "outputs": [],
   "source": [
    "gdf = gpd.read_file('tiles/tiles_3dep_realigned.shp')\n",
    "gdf['FID'] = gdf.index\n",
    "gdf['centroid_x'] = gdf.centroid.geometry.x\n",
    "gdf['centroid_y'] = gdf.centroid.geometry.y\n",
    "gdf['EPSG'] = (32700-(np.round((45+gdf['centroid_y'])/90,0)*100)+np.round((183+gdf['centroid_x'])/6,0)).astype(int)\n",
    "# gdf"
   ]
  },
  {
   "cell_type": "code",
   "execution_count": null,
   "metadata": {},
   "outputs": [],
   "source": [
    "d = dict(zip(gdf['FID'],gdf['EPSG']))\n",
    "lsdtt_results_df['EPSG'] = lsdtt_results_df['tile_number'].map(d)\n",
    "# lsdtt_results_df"
   ]
  },
  {
   "cell_type": "code",
   "execution_count": null,
   "metadata": {},
   "outputs": [],
   "source": [
    "lsdtt_results_df['latlong'] = np.nan\n",
    "\n",
    "for code in lsdtt_results_df['EPSG'].unique():\n",
    "    code_subset = lsdtt_results_df.loc[lsdtt_results_df['EPSG'] == code]\n",
    "\n",
    "    code_subset_gdf = gpd.GeoDataFrame(\n",
    "    code_subset, \n",
    "    geometry=gpd.points_from_xy(\n",
    "        code_subset['easting'], code_subset['northing']), \n",
    "        #   crs=f'epsg:{code}' \n",
    "          crs=f'epsg:32617' \n",
    "          ).to_crs('EPSG:4326')\n",
    "    lsdtt_results_df.loc[lsdtt_results_df['EPSG'] == code, 'latlong'] = code_subset_gdf.geometry\n",
    "\n",
    "# gdf\n",
    "# ak_subset_squares = gpd.GeoDataFrame(\n",
    "#     ak_subset.drop('geometry', axis=1).copy(), geometry=ak_subset.square_geom, crs=\"EPSG:4326\"\n",
    "#     )\n",
    "\n",
    "lsdtt_results_gdf = gpd.GeoDataFrame(\n",
    "    lsdtt_results_df, \n",
    "    geometry=lsdtt_results_df['latlong'],\n",
    "    crs=\"EPSG:4326\"\n",
    ")\n",
    "\n",
    "lsdtt_results_gdf['latitude'] = lsdtt_results_gdf.geometry.y\n",
    "lsdtt_results_gdf['longitude'] = lsdtt_results_gdf.geometry.x"
   ]
  },
  {
   "cell_type": "code",
   "execution_count": null,
   "metadata": {},
   "outputs": [],
   "source": [
    "medians = lsdtt_results_gdf.drop(['latlong', 'geometry'], axis=1).groupby('filename').median().reset_index()"
   ]
  },
  {
   "cell_type": "markdown",
   "metadata": {},
   "source": [
    "# Start here if you have the .csv already"
   ]
  },
  {
   "cell_type": "code",
   "execution_count": null,
   "metadata": {},
   "outputs": [],
   "source": [
    "medians = pd.read_csv('data/lsdtt_tile_medians.csv')"
   ]
  },
  {
   "cell_type": "markdown",
   "metadata": {},
   "source": [
    "## Extract climate data to tiles"
   ]
  },
  {
   "cell_type": "code",
   "execution_count": null,
   "metadata": {},
   "outputs": [],
   "source": [
    "medians_gdf = gpd.GeoDataFrame(\n",
    "    medians, \n",
    "    geometry=gpd.points_from_xy(\n",
    "        medians['longitude'], medians['latitude']), # here we specify which columns have the long and lat\n",
    "          crs='epsg:4326' # finally end specifying the WGS84 spatial reference\n",
    "          )"
   ]
  },
  {
   "cell_type": "code",
   "execution_count": null,
   "metadata": {},
   "outputs": [],
   "source": [
    "climate_df = medians_gdf.filter(['tile_number']).astype(int)\n",
    "\n",
    "coord_list = [(x, y) for x, y in zip(medians_gdf[\"geometry\"].x, medians_gdf[\"geometry\"].y)]\n",
    "\n",
    "p = Path('maps/CCSM/22000BP')\n",
    "\n",
    "scr_list = [file for file in p.glob('an_*.tif')]\n",
    "\n",
    "for srcpath in scr_list:\n",
    "    src = rasterio.open(srcpath)\n",
    "    climate_df[srcpath.stem] = [x[0] for x in src.sample(coord_list)]\n",
    "\n",
    "p = Path('maps/PRISM')\n",
    "\n",
    "scr_list = [file for file in p.glob('*.bil')]\n",
    "\n",
    "for srcpath in scr_list:\n",
    "    src = rasterio.open(srcpath)\n",
    "    climate_df[srcpath.stem] = [x[0] for x in src.sample(coord_list)]\n",
    "\n",
    "\n",
    "p = Path('maps/PRISM')\n",
    "\n",
    "scr_list = [file for file in p.glob('*.bil')]\n",
    "\n",
    "for srcpath in scr_list:\n",
    "    src = rasterio.open(srcpath)\n",
    "    att = srcpath.stem.split('_')[1]\n",
    "    att_column = f'PRISM_{att}'\n",
    "    climate_df[att_column] = [x[0] for x in src.sample(coord_list)]\n"
   ]
  },
  {
   "cell_type": "code",
   "execution_count": null,
   "metadata": {},
   "outputs": [],
   "source": [
    "lsdtt_results_gdf = gpd.GeoDataFrame(\n",
    "    pd.merge(lsdtt_results_gdf, climate_df, how='left', on='tile_number'), \n",
    "    geometry=lsdtt_results_gdf['latlong'],\n",
    "    crs=\"EPSG:4326\"\n",
    ")\n",
    "\n",
    "geology = gpd.read_file('maps/all_data.shp')\n",
    "# joined2 = gpd.sjoin(lsdtt_results_gdf, geology, how='left')\n",
    "\n",
    "# geology dissolve\n",
    "\n",
    "geol_dissolve = geology.dissolve(by='unit_name').reset_index()\n",
    "joined2 = gpd.sjoin(lsdtt_results_gdf, geol_dissolve, how='left')"
   ]
  },
  {
   "cell_type": "code",
   "execution_count": null,
   "metadata": {},
   "outputs": [],
   "source": [
    "tuscarora = joined2[joined2['unit_name'].notna()][joined2[joined2['unit_name'].notna()]['unit_name'].str.contains(\"Tuscarora\")]\n",
    "# nontusc = joined2[joined2['unit_name'].notna()][~joined2[joined2['unit_name'].notna()]['unit_name'].str.contains(\"Tuscarora\")]\n",
    "# tuscarora\n"
   ]
  },
  {
   "cell_type": "code",
   "execution_count": null,
   "metadata": {},
   "outputs": [],
   "source": [
    "# tuscarora.select_dtypes(exclude=['object']).drop(columns='geometry').groupby('tile_number').median().to_csv(\"output_data/tuscarora_tile_medians.csv\")\n"
   ]
  }
 ],
 "metadata": {
  "kernelspec": {
   "display_name": "ears33",
   "language": "python",
   "name": "python3"
  },
  "language_info": {
   "codemirror_mode": {
    "name": "ipython",
    "version": 3
   },
   "file_extension": ".py",
   "mimetype": "text/x-python",
   "name": "python",
   "nbconvert_exporter": "python",
   "pygments_lexer": "ipython3",
   "version": "3.11.0"
  }
 },
 "nbformat": 4,
 "nbformat_minor": 2
}
